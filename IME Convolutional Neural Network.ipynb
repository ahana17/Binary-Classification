{
 "cells": [
  {
   "cell_type": "code",
   "execution_count": 1,
   "metadata": {},
   "outputs": [],
   "source": [
    "import pandas as pd \n",
    "import seaborn as sns \n",
    "import matplotlib.pyplot as plt \n",
    "import numpy as np\n",
    "\n",
    "data_train=pd.read_csv('train.csv')\n",
    "data_test=pd.read_csv('test.csv')"
   ]
  },
  {
   "cell_type": "code",
   "execution_count": 2,
   "metadata": {},
   "outputs": [],
   "source": [
    "X_train = data_train.loc[ : , data_train.columns != 'y'] \n",
    "y_train = data_train[\"y\"]\n",
    "X_test = data_test.loc[ : , data_test.columns != 'y'] \n",
    "y_test = data_test[\"y\"]"
   ]
  },
  {
   "cell_type": "code",
   "execution_count": 3,
   "metadata": {},
   "outputs": [
    {
     "data": {
      "text/plain": [
       "array([[ 1.15303139,  0.78471779,  0.49901377, ...,  0.49519945,\n",
       "        -0.21787246, -0.51142997],\n",
       "       [-0.22093273, -1.48801416, -0.60745566, ...,  0.73971779,\n",
       "         0.71920557,  0.52263043],\n",
       "       [-1.14075417,  0.42752413, -0.38239174, ...,  1.39876119,\n",
       "        -0.76877395, -0.3459253 ],\n",
       "       ...,\n",
       "       [-0.01917309,  0.5082052 , -1.16724028, ...,  1.3326036 ,\n",
       "        -1.5826336 ,  1.46122539],\n",
       "       [-0.82221807, -0.54195726,  1.04831858, ...,  0.39575285,\n",
       "         0.04550299, -0.65737628],\n",
       "       [-1.55853763,  0.562506  ,  1.43594663, ..., -0.96721807,\n",
       "        -0.54603914, -1.32817318]])"
      ]
     },
     "execution_count": 3,
     "metadata": {},
     "output_type": "execute_result"
    }
   ],
   "source": [
    "from sklearn.preprocessing import StandardScaler\n",
    "sc = StandardScaler()\n",
    "X_train = sc.fit_transform(X_train)\n",
    "X_train"
   ]
  },
  {
   "cell_type": "code",
   "execution_count": 4,
   "metadata": {},
   "outputs": [
    {
     "data": {
      "text/plain": [
       "array([[-5.86068739e-01, -1.32390471e+00, -6.05794639e-01, ...,\n",
       "         8.06010031e-01, -3.24040338e-01, -4.56172865e-01],\n",
       "       [-1.26758455e+00,  1.38862624e+00, -1.05268462e+00, ...,\n",
       "         1.49796071e+00,  8.49466379e-01,  1.75141918e+00],\n",
       "       [ 9.53880527e-01, -9.75591459e-01,  7.23231217e-01, ...,\n",
       "         1.05108191e-03, -1.73860612e-02,  1.74850174e+00],\n",
       "       ...,\n",
       "       [-4.30476367e-01, -1.62011410e+00,  3.39539044e-01, ...,\n",
       "         1.71860159e+00,  1.25429659e+00, -8.96040476e-01],\n",
       "       [-1.09760841e+00,  4.28259474e-01,  1.26180022e+00, ...,\n",
       "        -9.14403537e-01,  1.13935686e+00, -9.12809395e-01],\n",
       "       [ 1.52327406e+00, -2.01525020e-01,  3.32945200e-01, ...,\n",
       "        -1.36269410e+00, -1.08370476e+00, -1.00753348e+00]])"
      ]
     },
     "execution_count": 4,
     "metadata": {},
     "output_type": "execute_result"
    }
   ],
   "source": [
    "X_test = sc.fit_transform(X_test)\n",
    "X_test"
   ]
  },
  {
   "cell_type": "code",
   "execution_count": 5,
   "metadata": {},
   "outputs": [],
   "source": [
    "#pip install keras"
   ]
  },
  {
   "cell_type": "code",
   "execution_count": 6,
   "metadata": {},
   "outputs": [],
   "source": [
    "#pip install tensorflow"
   ]
  },
  {
   "cell_type": "code",
   "execution_count": 7,
   "metadata": {},
   "outputs": [],
   "source": [
    "from keras import Sequential\n",
    "from keras.layers import Dense"
   ]
  },
  {
   "cell_type": "code",
   "execution_count": 8,
   "metadata": {},
   "outputs": [],
   "source": [
    "classifier = Sequential()\n",
    "#First Hidden Layer\n",
    "classifier.add(Dense(4, activation='relu', kernel_initializer='random_normal', input_dim=20))\n",
    "#Second  Hidden Layer\n",
    "classifier.add(Dense(4, activation='relu', kernel_initializer='random_normal'))\n",
    "#Output Layer\n",
    "classifier.add(Dense(1, activation='sigmoid', kernel_initializer='random_normal'))"
   ]
  },
  {
   "cell_type": "code",
   "execution_count": 9,
   "metadata": {},
   "outputs": [],
   "source": [
    "classifier.compile(optimizer ='adam',loss='binary_crossentropy', metrics =['accuracy'])"
   ]
  },
  {
   "cell_type": "code",
   "execution_count": 10,
   "metadata": {},
   "outputs": [
    {
     "name": "stdout",
     "output_type": "stream",
     "text": [
      "Epoch 1/100\n",
      "20/20 [==============================] - 0s 606us/step - loss: 0.6933 - accuracy: 0.4100\n",
      "Epoch 2/100\n",
      "20/20 [==============================] - 0s 550us/step - loss: 0.6931 - accuracy: 0.5150\n",
      "Epoch 3/100\n",
      "20/20 [==============================] - 0s 647us/step - loss: 0.6930 - accuracy: 0.5150\n",
      "Epoch 4/100\n",
      "20/20 [==============================] - 0s 648us/step - loss: 0.6926 - accuracy: 0.5150\n",
      "Epoch 5/100\n",
      "20/20 [==============================] - 0s 598us/step - loss: 0.6918 - accuracy: 0.5150\n",
      "Epoch 6/100\n",
      "20/20 [==============================] - 0s 600us/step - loss: 0.6899 - accuracy: 0.5150\n",
      "Epoch 7/100\n",
      "20/20 [==============================] - 0s 607us/step - loss: 0.6850 - accuracy: 0.5150\n",
      "Epoch 8/100\n",
      "20/20 [==============================] - 0s 598us/step - loss: 0.6751 - accuracy: 0.5150\n",
      "Epoch 9/100\n",
      "20/20 [==============================] - 0s 698us/step - loss: 0.6597 - accuracy: 0.5150\n",
      "Epoch 10/100\n",
      "20/20 [==============================] - 0s 599us/step - loss: 0.6368 - accuracy: 0.5150\n",
      "Epoch 11/100\n",
      "20/20 [==============================] - 0s 597us/step - loss: 0.6120 - accuracy: 0.5450\n",
      "Epoch 12/100\n",
      "20/20 [==============================] - 0s 589us/step - loss: 0.5876 - accuracy: 0.7150\n",
      "Epoch 13/100\n",
      "20/20 [==============================] - 0s 647us/step - loss: 0.5650 - accuracy: 0.7450\n",
      "Epoch 14/100\n",
      "20/20 [==============================] - 0s 598us/step - loss: 0.5453 - accuracy: 0.7900\n",
      "Epoch 15/100\n",
      "20/20 [==============================] - 0s 648us/step - loss: 0.5326 - accuracy: 0.8250\n",
      "Epoch 16/100\n",
      "20/20 [==============================] - 0s 648us/step - loss: 0.5187 - accuracy: 0.8300\n",
      "Epoch 17/100\n",
      "20/20 [==============================] - 0s 600us/step - loss: 0.5097 - accuracy: 0.8450\n",
      "Epoch 18/100\n",
      "20/20 [==============================] - 0s 598us/step - loss: 0.5018 - accuracy: 0.8600\n",
      "Epoch 19/100\n",
      "20/20 [==============================] - 0s 597us/step - loss: 0.4943 - accuracy: 0.8700\n",
      "Epoch 20/100\n",
      "20/20 [==============================] - 0s 549us/step - loss: 0.4879 - accuracy: 0.8700\n",
      "Epoch 21/100\n",
      "20/20 [==============================] - 0s 599us/step - loss: 0.4819 - accuracy: 0.8750\n",
      "Epoch 22/100\n",
      "20/20 [==============================] - 0s 598us/step - loss: 0.4776 - accuracy: 0.8800\n",
      "Epoch 23/100\n",
      "20/20 [==============================] - 0s 593us/step - loss: 0.4723 - accuracy: 0.8850\n",
      "Epoch 24/100\n",
      "20/20 [==============================] - 0s 600us/step - loss: 0.4675 - accuracy: 0.8950\n",
      "Epoch 25/100\n",
      "20/20 [==============================] - 0s 648us/step - loss: 0.4622 - accuracy: 0.9000\n",
      "Epoch 26/100\n",
      "20/20 [==============================] - 0s 598us/step - loss: 0.4580 - accuracy: 0.9000\n",
      "Epoch 27/100\n",
      "20/20 [==============================] - 0s 598us/step - loss: 0.4542 - accuracy: 0.9000\n",
      "Epoch 28/100\n",
      "20/20 [==============================] - 0s 550us/step - loss: 0.4499 - accuracy: 0.9050\n",
      "Epoch 29/100\n",
      "20/20 [==============================] - 0s 598us/step - loss: 0.4459 - accuracy: 0.9050\n",
      "Epoch 30/100\n",
      "20/20 [==============================] - 0s 548us/step - loss: 0.4424 - accuracy: 0.9000\n",
      "Epoch 31/100\n",
      "20/20 [==============================] - 0s 548us/step - loss: 0.4388 - accuracy: 0.9050\n",
      "Epoch 32/100\n",
      "20/20 [==============================] - 0s 848us/step - loss: 0.4349 - accuracy: 0.9100\n",
      "Epoch 33/100\n",
      "20/20 [==============================] - 0s 848us/step - loss: 0.4315 - accuracy: 0.9100\n",
      "Epoch 34/100\n",
      "20/20 [==============================] - 0s 898us/step - loss: 0.4280 - accuracy: 0.9100\n",
      "Epoch 35/100\n",
      "20/20 [==============================] - 0s 649us/step - loss: 0.4250 - accuracy: 0.9100\n",
      "Epoch 36/100\n",
      "20/20 [==============================] - 0s 798us/step - loss: 0.4213 - accuracy: 0.9150\n",
      "Epoch 37/100\n",
      "20/20 [==============================] - 0s 697us/step - loss: 0.4181 - accuracy: 0.9200\n",
      "Epoch 38/100\n",
      "20/20 [==============================] - 0s 747us/step - loss: 0.4144 - accuracy: 0.9200\n",
      "Epoch 39/100\n",
      "20/20 [==============================] - 0s 699us/step - loss: 0.4116 - accuracy: 0.9150\n",
      "Epoch 40/100\n",
      "20/20 [==============================] - 0s 795us/step - loss: 0.4084 - accuracy: 0.9250\n",
      "Epoch 41/100\n",
      "20/20 [==============================] - 0s 748us/step - loss: 0.4052 - accuracy: 0.9250\n",
      "Epoch 42/100\n",
      "20/20 [==============================] - 0s 648us/step - loss: 0.4018 - accuracy: 0.9200\n",
      "Epoch 43/100\n",
      "20/20 [==============================] - 0s 698us/step - loss: 0.3986 - accuracy: 0.9200\n",
      "Epoch 44/100\n",
      "20/20 [==============================] - 0s 598us/step - loss: 0.3962 - accuracy: 0.9200\n",
      "Epoch 45/100\n",
      "20/20 [==============================] - 0s 498us/step - loss: 0.3924 - accuracy: 0.9250\n",
      "Epoch 46/100\n",
      "20/20 [==============================] - 0s 598us/step - loss: 0.3896 - accuracy: 0.9250\n",
      "Epoch 47/100\n",
      "20/20 [==============================] - 0s 597us/step - loss: 0.3870 - accuracy: 0.9200\n",
      "Epoch 48/100\n",
      "20/20 [==============================] - 0s 588us/step - loss: 0.3835 - accuracy: 0.9200\n",
      "Epoch 49/100\n",
      "20/20 [==============================] - 0s 610us/step - loss: 0.3807 - accuracy: 0.9200\n",
      "Epoch 50/100\n",
      "20/20 [==============================] - 0s 549us/step - loss: 0.3776 - accuracy: 0.9250\n",
      "Epoch 51/100\n",
      "20/20 [==============================] - 0s 549us/step - loss: 0.3749 - accuracy: 0.9250\n",
      "Epoch 52/100\n",
      "20/20 [==============================] - 0s 549us/step - loss: 0.3724 - accuracy: 0.9250\n",
      "Epoch 53/100\n",
      "20/20 [==============================] - 0s 598us/step - loss: 0.3691 - accuracy: 0.9200\n",
      "Epoch 54/100\n",
      "20/20 [==============================] - 0s 550us/step - loss: 0.3662 - accuracy: 0.9200\n",
      "Epoch 55/100\n",
      "20/20 [==============================] - 0s 544us/step - loss: 0.3631 - accuracy: 0.9250\n",
      "Epoch 56/100\n",
      "20/20 [==============================] - 0s 549us/step - loss: 0.3612 - accuracy: 0.9200\n",
      "Epoch 57/100\n",
      "20/20 [==============================] - 0s 549us/step - loss: 0.3575 - accuracy: 0.9250\n",
      "Epoch 58/100\n",
      "20/20 [==============================] - 0s 547us/step - loss: 0.3552 - accuracy: 0.9250\n",
      "Epoch 59/100\n",
      "20/20 [==============================] - 0s 497us/step - loss: 0.3522 - accuracy: 0.9250\n",
      "Epoch 60/100\n",
      "20/20 [==============================] - 0s 540us/step - loss: 0.3491 - accuracy: 0.9200\n",
      "Epoch 61/100\n",
      "20/20 [==============================] - 0s 543us/step - loss: 0.3472 - accuracy: 0.9250\n",
      "Epoch 62/100\n",
      "20/20 [==============================] - 0s 499us/step - loss: 0.3441 - accuracy: 0.9200\n",
      "Epoch 63/100\n",
      "20/20 [==============================] - 0s 497us/step - loss: 0.3417 - accuracy: 0.9250\n",
      "Epoch 64/100\n",
      "20/20 [==============================] - 0s 499us/step - loss: 0.3393 - accuracy: 0.9250\n",
      "Epoch 65/100\n",
      "20/20 [==============================] - 0s 499us/step - loss: 0.3362 - accuracy: 0.9300\n",
      "Epoch 66/100\n",
      "20/20 [==============================] - 0s 547us/step - loss: 0.3335 - accuracy: 0.9250\n",
      "Epoch 67/100\n",
      "20/20 [==============================] - 0s 499us/step - loss: 0.3310 - accuracy: 0.9300\n",
      "Epoch 68/100\n",
      "20/20 [==============================] - 0s 499us/step - loss: 0.3286 - accuracy: 0.9300\n",
      "Epoch 69/100\n",
      "20/20 [==============================] - 0s 550us/step - loss: 0.3259 - accuracy: 0.9250\n",
      "Epoch 70/100\n",
      "20/20 [==============================] - 0s 550us/step - loss: 0.3231 - accuracy: 0.9250\n",
      "Epoch 71/100\n",
      "20/20 [==============================] - 0s 547us/step - loss: 0.3223 - accuracy: 0.9300\n",
      "Epoch 72/100\n",
      "20/20 [==============================] - 0s 499us/step - loss: 0.3190 - accuracy: 0.9300\n",
      "Epoch 73/100\n",
      "20/20 [==============================] - 0s 497us/step - loss: 0.3164 - accuracy: 0.9300\n",
      "Epoch 74/100\n",
      "20/20 [==============================] - 0s 548us/step - loss: 0.3141 - accuracy: 0.9350\n",
      "Epoch 75/100\n",
      "20/20 [==============================] - 0s 547us/step - loss: 0.3115 - accuracy: 0.9300\n",
      "Epoch 76/100\n",
      "20/20 [==============================] - 0s 499us/step - loss: 0.3084 - accuracy: 0.9250\n",
      "Epoch 77/100\n",
      "20/20 [==============================] - 0s 498us/step - loss: 0.3065 - accuracy: 0.9300\n",
      "Epoch 78/100\n",
      "20/20 [==============================] - 0s 513us/step - loss: 0.3043 - accuracy: 0.9300\n",
      "Epoch 79/100\n",
      "20/20 [==============================] - 0s 547us/step - loss: 0.3025 - accuracy: 0.9250\n",
      "Epoch 80/100\n",
      "20/20 [==============================] - 0s 499us/step - loss: 0.2993 - accuracy: 0.9350\n",
      "Epoch 81/100\n",
      "20/20 [==============================] - 0s 549us/step - loss: 0.2975 - accuracy: 0.9350\n",
      "Epoch 82/100\n",
      "20/20 [==============================] - 0s 547us/step - loss: 0.2953 - accuracy: 0.9350\n",
      "Epoch 83/100\n",
      "20/20 [==============================] - 0s 494us/step - loss: 0.2934 - accuracy: 0.9450\n",
      "Epoch 84/100\n",
      "20/20 [==============================] - 0s 511us/step - loss: 0.2919 - accuracy: 0.9400\n",
      "Epoch 85/100\n",
      "20/20 [==============================] - 0s 500us/step - loss: 0.2890 - accuracy: 0.9350\n",
      "Epoch 86/100\n",
      "20/20 [==============================] - 0s 499us/step - loss: 0.2872 - accuracy: 0.9400\n",
      "Epoch 87/100\n",
      "20/20 [==============================] - ETA: 0s - loss: 0.3096 - accuracy: 0.90 - 0s 499us/step - loss: 0.2855 - accuracy: 0.9500\n",
      "Epoch 88/100\n",
      "20/20 [==============================] - 0s 550us/step - loss: 0.2832 - accuracy: 0.9450\n",
      "Epoch 89/100\n",
      "20/20 [==============================] - 0s 598us/step - loss: 0.2806 - accuracy: 0.9400\n",
      "Epoch 90/100\n",
      "20/20 [==============================] - 0s 499us/step - loss: 0.2789 - accuracy: 0.9450\n",
      "Epoch 91/100\n",
      "20/20 [==============================] - 0s 505us/step - loss: 0.2766 - accuracy: 0.9500\n",
      "Epoch 92/100\n",
      "20/20 [==============================] - 0s 547us/step - loss: 0.2758 - accuracy: 0.9450\n",
      "Epoch 93/100\n",
      "20/20 [==============================] - 0s 588us/step - loss: 0.2734 - accuracy: 0.9450\n",
      "Epoch 94/100\n",
      "20/20 [==============================] - 0s 547us/step - loss: 0.2717 - accuracy: 0.9500\n",
      "Epoch 95/100\n",
      "20/20 [==============================] - 0s 547us/step - loss: 0.2699 - accuracy: 0.9450\n",
      "Epoch 96/100\n",
      "20/20 [==============================] - 0s 493us/step - loss: 0.2668 - accuracy: 0.9500\n",
      "Epoch 97/100\n",
      "20/20 [==============================] - 0s 549us/step - loss: 0.2659 - accuracy: 0.9500\n",
      "Epoch 98/100\n",
      "20/20 [==============================] - 0s 499us/step - loss: 0.2630 - accuracy: 0.9500\n",
      "Epoch 99/100\n",
      "20/20 [==============================] - 0s 499us/step - loss: 0.2612 - accuracy: 0.9500\n",
      "Epoch 100/100\n",
      "20/20 [==============================] - 0s 499us/step - loss: 0.2596 - accuracy: 0.9500\n"
     ]
    },
    {
     "data": {
      "text/plain": [
       "<tensorflow.python.keras.callbacks.History at 0x18ab0918a90>"
      ]
     },
     "execution_count": 10,
     "metadata": {},
     "output_type": "execute_result"
    }
   ],
   "source": [
    "classifier.fit(X_train,y_train, batch_size=10, epochs=100)"
   ]
  },
  {
   "cell_type": "code",
   "execution_count": 11,
   "metadata": {},
   "outputs": [
    {
     "name": "stdout",
     "output_type": "stream",
     "text": [
      "7/7 [==============================] - 0s 1ms/step - loss: 0.2560 - accuracy: 0.9550\n"
     ]
    },
    {
     "data": {
      "text/plain": [
       "[0.2559622824192047, 0.9549999833106995]"
      ]
     },
     "execution_count": 11,
     "metadata": {},
     "output_type": "execute_result"
    }
   ],
   "source": [
    "eval_model=classifier.evaluate(X_train, y_train)\n",
    "eval_model"
   ]
  },
  {
   "cell_type": "code",
   "execution_count": 12,
   "metadata": {},
   "outputs": [
    {
     "name": "stdout",
     "output_type": "stream",
     "text": [
      "WARNING:tensorflow:From <ipython-input-12-d805721f667a>:2: Sequential.predict_proba (from tensorflow.python.keras.engine.sequential) is deprecated and will be removed after 2021-01-01.\n",
      "Instructions for updating:\n",
      "Please use `model.predict()` instead.\n"
     ]
    }
   ],
   "source": [
    "pred=classifier.predict(X_test)\n",
    "prob=classifier.predict_proba(X_test)\n",
    "pred =(pred>0.5)"
   ]
  },
  {
   "cell_type": "code",
   "execution_count": 13,
   "metadata": {},
   "outputs": [
    {
     "name": "stdout",
     "output_type": "stream",
     "text": [
      "[[414  77]\n",
      " [124 385]]\n"
     ]
    }
   ],
   "source": [
    "from sklearn.metrics import confusion_matrix\n",
    "cm = confusion_matrix(y_test, pred)\n",
    "print(cm)"
   ]
  },
  {
   "cell_type": "code",
   "execution_count": 14,
   "metadata": {},
   "outputs": [
    {
     "name": "stdout",
     "output_type": "stream",
     "text": [
      "              precision    recall  f1-score   support\n",
      "\n",
      "           0       0.77      0.84      0.80       491\n",
      "           1       0.83      0.76      0.79       509\n",
      "\n",
      "    accuracy                           0.80      1000\n",
      "   macro avg       0.80      0.80      0.80      1000\n",
      "weighted avg       0.80      0.80      0.80      1000\n",
      "\n"
     ]
    },
    {
     "data": {
      "text/plain": [
       "0.799"
      ]
     },
     "execution_count": 14,
     "metadata": {},
     "output_type": "execute_result"
    }
   ],
   "source": [
    "from sklearn.metrics import classification_report, accuracy_score, roc_auc_score\n",
    "\n",
    "print(classification_report(y_test, pred))\n",
    "accuracy_score(y_test,pred)"
   ]
  },
  {
   "cell_type": "code",
   "execution_count": 15,
   "metadata": {},
   "outputs": [
    {
     "name": "stdout",
     "output_type": "stream",
     "text": [
      "F1 Score: 0.7929969104016478\n"
     ]
    }
   ],
   "source": [
    "from sklearn.metrics import f1_score\n",
    "print(\"F1 Score: {}\".format(f1_score(y_test, pred)))"
   ]
  },
  {
   "cell_type": "code",
   "execution_count": 16,
   "metadata": {},
   "outputs": [
    {
     "name": "stdout",
     "output_type": "stream",
     "text": [
      "AUC: 0.86%\n"
     ]
    }
   ],
   "source": [
    "roc_auc = roc_auc_score(y_test, prob)\n",
    "print('AUC: %.2f' % roc_auc + \"%\")"
   ]
  },
  {
   "cell_type": "code",
   "execution_count": 17,
   "metadata": {},
   "outputs": [
    {
     "data": {
      "image/png": "[encoded data removed]",
      "text/plain": [
       "<Figure size 360x360 with 1 Axes>"
      ]
     },
     "metadata": {},
     "output_type": "display_data"
    }
   ],
   "source": [
    "from plot_metric.functions import BinaryClassification\n",
    "\n",
    "# Visualisation with plot_metric\n",
    "bc = BinaryClassification(y_test,\n",
    "                          prob,\n",
    "                          labels = [\"Class 1\", \"Class 2\"])\n",
    "\n",
    "# Figures\n",
    "plt.figure(figsize = (5,5))\n",
    "bc.plot_roc_curve()\n",
    "plt.show()"
   ]
  },
  {
   "cell_type": "code",
   "execution_count": 18,
   "metadata": {},
   "outputs": [
    {
     "data": {
      "text/plain": [
       "0.756385068762279"
      ]
     },
     "execution_count": 18,
     "metadata": {},
     "output_type": "execute_result"
    }
   ],
   "source": [
    "from sklearn.metrics import recall_score\n",
    "recall_score(y_test, pred)"
   ]
  },
  {
   "cell_type": "code",
   "execution_count": null,
   "metadata": {},
   "outputs": [],
   "source": []
  }
 ],
 "metadata": {
  "kernelspec": {
   "display_name": "Python 3",
   "language": "python",
   "name": "python3"
  },
  "language_info": {
   "codemirror_mode": {
    "name": "ipython",
    "version": 3
   },
   "file_extension": ".py",
   "mimetype": "text/x-python",
   "name": "python",
   "nbconvert_exporter": "python",
   "pygments_lexer": "ipython3",
   "version": "3.8.3"
  }
 },
 "nbformat": 4,
 "nbformat_minor": 4
}
