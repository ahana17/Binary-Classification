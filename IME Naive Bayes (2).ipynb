{
 "cells": [
  {
   "cell_type": "code",
   "execution_count": 1,
   "metadata": {},
   "outputs": [],
   "source": [
    "import pandas as pd\n",
    "\n",
    "data_train=pd.read_csv('train.csv')\n",
    "data_test=pd.read_csv('test.csv')"
   ]
  },
  {
   "cell_type": "code",
   "execution_count": 2,
   "metadata": {},
   "outputs": [],
   "source": [
    "X_train = data_train.loc[ : , data_train.columns != 'y'] \n",
    "y_train = data_train[\"y\"]\n",
    "X_test = data_test.loc[ : , data_test.columns != 'y'] \n",
    "y_test = data_test[\"y\"]"
   ]
  },
  {
   "cell_type": "code",
   "execution_count": 3,
   "metadata": {},
   "outputs": [
    {
     "data": {
      "text/html": [
       "<div>\n",
       "<style scoped>\n",
       "    .dataframe tbody tr th:only-of-type {\n",
       "        vertical-align: middle;\n",
       "    }\n",
       "\n",
       "    .dataframe tbody tr th {\n",
       "        vertical-align: top;\n",
       "    }\n",
       "\n",
       "    .dataframe thead th {\n",
       "        text-align: right;\n",
       "    }\n",
       "</style>\n",
       "<table border=\"1\" class=\"dataframe\">\n",
       "  <thead>\n",
       "    <tr style=\"text-align: right;\">\n",
       "      <th></th>\n",
       "      <th>x1</th>\n",
       "      <th>x2</th>\n",
       "      <th>x3</th>\n",
       "      <th>x4</th>\n",
       "      <th>x5</th>\n",
       "      <th>x6</th>\n",
       "      <th>x7</th>\n",
       "      <th>x8</th>\n",
       "      <th>x9</th>\n",
       "      <th>x10</th>\n",
       "      <th>x11</th>\n",
       "      <th>x12</th>\n",
       "      <th>x13</th>\n",
       "      <th>x14</th>\n",
       "      <th>x15</th>\n",
       "      <th>x16</th>\n",
       "      <th>x17</th>\n",
       "      <th>x18</th>\n",
       "      <th>x19</th>\n",
       "      <th>x20</th>\n",
       "    </tr>\n",
       "  </thead>\n",
       "  <tbody>\n",
       "    <tr>\n",
       "      <th>0</th>\n",
       "      <td>0.832164</td>\n",
       "      <td>0.734772</td>\n",
       "      <td>0.626653</td>\n",
       "      <td>0.238078</td>\n",
       "      <td>0.338718</td>\n",
       "      <td>0.364629</td>\n",
       "      <td>0.533504</td>\n",
       "      <td>0.484752</td>\n",
       "      <td>0.673383</td>\n",
       "      <td>0.394322</td>\n",
       "      <td>0.726064</td>\n",
       "      <td>0.813944</td>\n",
       "      <td>0.686857</td>\n",
       "      <td>0.442066</td>\n",
       "      <td>0.208592</td>\n",
       "      <td>0.846246</td>\n",
       "      <td>0.416390</td>\n",
       "      <td>0.681197</td>\n",
       "      <td>0.415797</td>\n",
       "      <td>0.351630</td>\n",
       "    </tr>\n",
       "    <tr>\n",
       "      <th>1</th>\n",
       "      <td>0.434020</td>\n",
       "      <td>0.054741</td>\n",
       "      <td>0.316852</td>\n",
       "      <td>0.229558</td>\n",
       "      <td>0.714776</td>\n",
       "      <td>0.185191</td>\n",
       "      <td>0.288082</td>\n",
       "      <td>0.040074</td>\n",
       "      <td>0.588396</td>\n",
       "      <td>0.671829</td>\n",
       "      <td>0.780675</td>\n",
       "      <td>0.862059</td>\n",
       "      <td>0.590721</td>\n",
       "      <td>0.084614</td>\n",
       "      <td>0.890323</td>\n",
       "      <td>0.501312</td>\n",
       "      <td>0.084612</td>\n",
       "      <td>0.751885</td>\n",
       "      <td>0.696986</td>\n",
       "      <td>0.664690</td>\n",
       "    </tr>\n",
       "    <tr>\n",
       "      <th>2</th>\n",
       "      <td>0.167477</td>\n",
       "      <td>0.627895</td>\n",
       "      <td>0.379868</td>\n",
       "      <td>0.834608</td>\n",
       "      <td>0.286843</td>\n",
       "      <td>0.146932</td>\n",
       "      <td>0.745286</td>\n",
       "      <td>0.063496</td>\n",
       "      <td>0.872345</td>\n",
       "      <td>0.137706</td>\n",
       "      <td>0.174549</td>\n",
       "      <td>0.238914</td>\n",
       "      <td>0.606350</td>\n",
       "      <td>0.906995</td>\n",
       "      <td>0.722755</td>\n",
       "      <td>0.957155</td>\n",
       "      <td>0.772042</td>\n",
       "      <td>0.942410</td>\n",
       "      <td>0.250488</td>\n",
       "      <td>0.401736</td>\n",
       "    </tr>\n",
       "    <tr>\n",
       "      <th>3</th>\n",
       "      <td>0.917487</td>\n",
       "      <td>0.349867</td>\n",
       "      <td>0.026223</td>\n",
       "      <td>0.904135</td>\n",
       "      <td>0.189632</td>\n",
       "      <td>0.068428</td>\n",
       "      <td>0.424099</td>\n",
       "      <td>0.097569</td>\n",
       "      <td>0.669446</td>\n",
       "      <td>0.264504</td>\n",
       "      <td>0.720960</td>\n",
       "      <td>0.998434</td>\n",
       "      <td>0.676528</td>\n",
       "      <td>0.436011</td>\n",
       "      <td>0.510557</td>\n",
       "      <td>0.254132</td>\n",
       "      <td>0.638738</td>\n",
       "      <td>0.262307</td>\n",
       "      <td>0.917623</td>\n",
       "      <td>0.252353</td>\n",
       "    </tr>\n",
       "    <tr>\n",
       "      <th>4</th>\n",
       "      <td>0.262515</td>\n",
       "      <td>0.128063</td>\n",
       "      <td>0.684576</td>\n",
       "      <td>0.452624</td>\n",
       "      <td>0.384034</td>\n",
       "      <td>0.032154</td>\n",
       "      <td>0.912727</td>\n",
       "      <td>0.058140</td>\n",
       "      <td>0.946419</td>\n",
       "      <td>0.172531</td>\n",
       "      <td>0.924590</td>\n",
       "      <td>0.852647</td>\n",
       "      <td>0.534161</td>\n",
       "      <td>0.569734</td>\n",
       "      <td>0.293528</td>\n",
       "      <td>0.380042</td>\n",
       "      <td>0.304119</td>\n",
       "      <td>0.465901</td>\n",
       "      <td>0.748553</td>\n",
       "      <td>0.740586</td>\n",
       "    </tr>\n",
       "  </tbody>\n",
       "</table>\n",
       "</div>"
      ],
      "text/plain": [
       "         x1        x2        x3        x4        x5        x6        x7  \\\n",
       "0  0.832164  0.734772  0.626653  0.238078  0.338718  0.364629  0.533504   \n",
       "1  0.434020  0.054741  0.316852  0.229558  0.714776  0.185191  0.288082   \n",
       "2  0.167477  0.627895  0.379868  0.834608  0.286843  0.146932  0.745286   \n",
       "3  0.917487  0.349867  0.026223  0.904135  0.189632  0.068428  0.424099   \n",
       "4  0.262515  0.128063  0.684576  0.452624  0.384034  0.032154  0.912727   \n",
       "\n",
       "         x8        x9       x10       x11       x12       x13       x14  \\\n",
       "0  0.484752  0.673383  0.394322  0.726064  0.813944  0.686857  0.442066   \n",
       "1  0.040074  0.588396  0.671829  0.780675  0.862059  0.590721  0.084614   \n",
       "2  0.063496  0.872345  0.137706  0.174549  0.238914  0.606350  0.906995   \n",
       "3  0.097569  0.669446  0.264504  0.720960  0.998434  0.676528  0.436011   \n",
       "4  0.058140  0.946419  0.172531  0.924590  0.852647  0.534161  0.569734   \n",
       "\n",
       "        x15       x16       x17       x18       x19       x20  \n",
       "0  0.208592  0.846246  0.416390  0.681197  0.415797  0.351630  \n",
       "1  0.890323  0.501312  0.084612  0.751885  0.696986  0.664690  \n",
       "2  0.722755  0.957155  0.772042  0.942410  0.250488  0.401736  \n",
       "3  0.510557  0.254132  0.638738  0.262307  0.917623  0.252353  \n",
       "4  0.293528  0.380042  0.304119  0.465901  0.748553  0.740586  "
      ]
     },
     "execution_count": 3,
     "metadata": {},
     "output_type": "execute_result"
    }
   ],
   "source": [
    "#X_train.describe()\n",
    "#X_train.info()\n",
    "X_train.head()"
   ]
  },
  {
   "cell_type": "code",
   "execution_count": 4,
   "metadata": {},
   "outputs": [
    {
     "data": {
      "text/plain": [
       "count    200.000000\n",
       "mean       0.485000\n",
       "std        0.501029\n",
       "min        0.000000\n",
       "25%        0.000000\n",
       "50%        0.000000\n",
       "75%        1.000000\n",
       "max        1.000000\n",
       "Name: y, dtype: float64"
      ]
     },
     "execution_count": 4,
     "metadata": {},
     "output_type": "execute_result"
    }
   ],
   "source": [
    "y_train.describe()"
   ]
  },
  {
   "cell_type": "code",
   "execution_count": 5,
   "metadata": {},
   "outputs": [
    {
     "data": {
      "text/plain": [
       "GaussianNB()"
      ]
     },
     "execution_count": 5,
     "metadata": {},
     "output_type": "execute_result"
    }
   ],
   "source": [
    "from sklearn.naive_bayes import GaussianNB\n",
    "nv = GaussianNB() # create a classifier\n",
    "nv.fit(X_train,y_train) # fitting the data"
   ]
  },
  {
   "cell_type": "code",
   "execution_count": 6,
   "metadata": {},
   "outputs": [
    {
     "data": {
      "text/plain": [
       "0.875"
      ]
     },
     "execution_count": 6,
     "metadata": {},
     "output_type": "execute_result"
    }
   ],
   "source": [
    "nv.fit(X_train,y_train).score(X_train,y_train)"
   ]
  },
  {
   "cell_type": "code",
   "execution_count": 7,
   "metadata": {},
   "outputs": [
    {
     "data": {
      "text/plain": [
       "GaussianNB()"
      ]
     },
     "execution_count": 7,
     "metadata": {},
     "output_type": "execute_result"
    }
   ],
   "source": [
    "GaussianNB(priors=None, var_smoothing=1e-09)"
   ]
  },
  {
   "cell_type": "code",
   "execution_count": 8,
   "metadata": {},
   "outputs": [
    {
     "data": {
      "text/plain": [
       "0.794"
      ]
     },
     "execution_count": 8,
     "metadata": {},
     "output_type": "execute_result"
    }
   ],
   "source": [
    "from sklearn.metrics import accuracy_score\n",
    "y_pred = nv.predict(X_test) \n",
    "prob=nv.predict_proba(X_test)[::,1] \n",
    "accuracy_score(y_test,y_pred) "
   ]
  },
  {
   "cell_type": "code",
   "execution_count": 9,
   "metadata": {},
   "outputs": [
    {
     "name": "stdout",
     "output_type": "stream",
     "text": [
      "Predicted    0    1   All\n",
      "Actual                   \n",
      "0          403   88   491\n",
      "1          118  391   509\n",
      "All        521  479  1000\n"
     ]
    }
   ],
   "source": [
    "import numpy as np\n",
    "from sklearn.metrics import classification_report, accuracy_score, roc_auc_score\n",
    "\n",
    "# Compute and print confusion matrix using crosstab function\n",
    "conf_matrix = pd.crosstab(y_test, y_pred,\n",
    "                       rownames = [\"Actual\"], \n",
    "                       colnames = [\"Predicted\"], \n",
    "                       margins = True)\n",
    "                      \n",
    "# Print the confusion matrix\n",
    "print(conf_matrix)"
   ]
  },
  {
   "cell_type": "code",
   "execution_count": 10,
   "metadata": {},
   "outputs": [
    {
     "name": "stdout",
     "output_type": "stream",
     "text": [
      "              precision    recall  f1-score   support\n",
      "\n",
      "           0       0.77      0.82      0.80       491\n",
      "           1       0.82      0.77      0.79       509\n",
      "\n",
      "    accuracy                           0.79      1000\n",
      "   macro avg       0.79      0.79      0.79      1000\n",
      "weighted avg       0.80      0.79      0.79      1000\n",
      "\n"
     ]
    },
    {
     "data": {
      "text/plain": [
       "0.794"
      ]
     },
     "execution_count": 10,
     "metadata": {},
     "output_type": "execute_result"
    }
   ],
   "source": [
    "print(classification_report(y_test, y_pred))\n",
    "accuracy_score(y_test,y_pred)"
   ]
  },
  {
   "cell_type": "code",
   "execution_count": 11,
   "metadata": {},
   "outputs": [
    {
     "name": "stdout",
     "output_type": "stream",
     "text": [
      "F1 Score: 0.791497975708502\n"
     ]
    }
   ],
   "source": [
    "from sklearn.metrics import f1_score\n",
    "print(\"F1 Score: {}\".format(f1_score(y_test, y_pred)))"
   ]
  },
  {
   "cell_type": "code",
   "execution_count": 12,
   "metadata": {},
   "outputs": [
    {
     "name": "stdout",
     "output_type": "stream",
     "text": [
      "AUC: 0.85%\n"
     ]
    }
   ],
   "source": [
    "roc_auc = roc_auc_score(y_test, prob)\n",
    "print('AUC: %.2f' % roc_auc + \"%\")"
   ]
  },
  {
   "cell_type": "code",
   "execution_count": 13,
   "metadata": {},
   "outputs": [
    {
     "data": {
      "image/png": "[encoded data removed]",
      "text/plain": [
       "<Figure size 360x360 with 1 Axes>"
      ]
     },
     "metadata": {},
     "output_type": "display_data"
    }
   ],
   "source": [
    "from plot_metric.functions import BinaryClassification\n",
    "import matplotlib.pyplot as plt\n",
    "\n",
    "# Visualisation with plot_metric\n",
    "bc = BinaryClassification(y_test,\n",
    "                          prob,\n",
    "                          labels = [\"Class 1\", \"Class 2\"])\n",
    "\n",
    "# Figures\n",
    "plt.figure(figsize = (5,5))\n",
    "bc.plot_roc_curve()\n",
    "plt.show()"
   ]
  },
  {
   "cell_type": "code",
   "execution_count": 14,
   "metadata": {},
   "outputs": [
    {
     "data": {
      "text/plain": [
       "0.768172888015717"
      ]
     },
     "execution_count": 14,
     "metadata": {},
     "output_type": "execute_result"
    }
   ],
   "source": [
    "from sklearn.metrics import recall_score\n",
    "recall_score(y_test, y_pred)"
   ]
  },
  {
   "cell_type": "code",
   "execution_count": null,
   "metadata": {},
   "outputs": [],
   "source": []
  }
 ],
 "metadata": {
  "kernelspec": {
   "display_name": "Python 3",
   "language": "python",
   "name": "python3"
  },
  "language_info": {
   "codemirror_mode": {
    "name": "ipython",
    "version": 3
   },
   "file_extension": ".py",
   "mimetype": "text/x-python",
   "name": "python",
   "nbconvert_exporter": "python",
   "pygments_lexer": "ipython3",
   "version": "3.8.3"
  }
 },
 "nbformat": 4,
 "nbformat_minor": 4
}
