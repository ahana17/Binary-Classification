{
 "cells": [
  {
   "cell_type": "code",
   "execution_count": 14,
   "metadata": {},
   "outputs": [],
   "source": [
    "import pandas as pd \n",
    "import seaborn as sns \n",
    "import matplotlib.pyplot as plt \n",
    "import numpy as np\n",
    "\n",
    "data_train=pd.read_csv('train.csv')\n",
    "data_test=pd.read_csv('test.csv')"
   ]
  },
  {
   "cell_type": "code",
   "execution_count": 15,
   "metadata": {},
   "outputs": [],
   "source": [
    "X_train = data_train.loc[ : , data_train.columns != 'y'] \n",
    "y_train = data_train[\"y\"]\n",
    "X_test = data_test.loc[ : , data_test.columns != 'y'] \n",
    "y_test = data_test[\"y\"]"
   ]
  },
  {
   "cell_type": "code",
   "execution_count": 16,
   "metadata": {},
   "outputs": [
    {
     "data": {
      "text/plain": [
       "array([[ 1.15303139,  0.78471779,  0.49901377, ...,  0.49519945,\n",
       "        -0.21787246, -0.51142997],\n",
       "       [-0.22093273, -1.48801416, -0.60745566, ...,  0.73971779,\n",
       "         0.71920557,  0.52263043],\n",
       "       [-1.14075417,  0.42752413, -0.38239174, ...,  1.39876119,\n",
       "        -0.76877395, -0.3459253 ],\n",
       "       ...,\n",
       "       [-0.01917309,  0.5082052 , -1.16724028, ...,  1.3326036 ,\n",
       "        -1.5826336 ,  1.46122539],\n",
       "       [-0.82221807, -0.54195726,  1.04831858, ...,  0.39575285,\n",
       "         0.04550299, -0.65737628],\n",
       "       [-1.55853763,  0.562506  ,  1.43594663, ..., -0.96721807,\n",
       "        -0.54603914, -1.32817318]])"
      ]
     },
     "execution_count": 16,
     "metadata": {},
     "output_type": "execute_result"
    }
   ],
   "source": [
    "from sklearn.preprocessing import StandardScaler\n",
    "sc = StandardScaler()\n",
    "X_train = sc.fit_transform(X_train)\n",
    "X_train"
   ]
  },
  {
   "cell_type": "code",
   "execution_count": 17,
   "metadata": {},
   "outputs": [
    {
     "data": {
      "text/plain": [
       "array([[-5.86068739e-01, -1.32390471e+00, -6.05794639e-01, ...,\n",
       "         8.06010031e-01, -3.24040338e-01, -4.56172865e-01],\n",
       "       [-1.26758455e+00,  1.38862624e+00, -1.05268462e+00, ...,\n",
       "         1.49796071e+00,  8.49466379e-01,  1.75141918e+00],\n",
       "       [ 9.53880527e-01, -9.75591459e-01,  7.23231217e-01, ...,\n",
       "         1.05108191e-03, -1.73860612e-02,  1.74850174e+00],\n",
       "       ...,\n",
       "       [-4.30476367e-01, -1.62011410e+00,  3.39539044e-01, ...,\n",
       "         1.71860159e+00,  1.25429659e+00, -8.96040476e-01],\n",
       "       [-1.09760841e+00,  4.28259474e-01,  1.26180022e+00, ...,\n",
       "        -9.14403537e-01,  1.13935686e+00, -9.12809395e-01],\n",
       "       [ 1.52327406e+00, -2.01525020e-01,  3.32945200e-01, ...,\n",
       "        -1.36269410e+00, -1.08370476e+00, -1.00753348e+00]])"
      ]
     },
     "execution_count": 17,
     "metadata": {},
     "output_type": "execute_result"
    }
   ],
   "source": [
    "X_test = sc.fit_transform(X_test)\n",
    "X_test"
   ]
  },
  {
   "cell_type": "code",
   "execution_count": 18,
   "metadata": {},
   "outputs": [],
   "source": [
    "#pip install keras"
   ]
  },
  {
   "cell_type": "code",
   "execution_count": 19,
   "metadata": {},
   "outputs": [],
   "source": [
    "#pip install tensorflow"
   ]
  },
  {
   "cell_type": "code",
   "execution_count": 20,
   "metadata": {},
   "outputs": [],
   "source": [
    "from keras import Sequential\n",
    "from keras.layers import Dense"
   ]
  },
  {
   "cell_type": "code",
   "execution_count": 21,
   "metadata": {},
   "outputs": [],
   "source": [
    "classifier = Sequential()\n",
    "#First Hidden Layer\n",
    "classifier.add(Dense(4, activation='relu', kernel_initializer='random_normal', input_dim=20))\n",
    "#Second  Hidden Layer\n",
    "classifier.add(Dense(4, activation='relu', kernel_initializer='random_normal'))\n",
    "#Output Layer\n",
    "classifier.add(Dense(1, activation='sigmoid', kernel_initializer='random_normal'))"
   ]
  },
  {
   "cell_type": "code",
   "execution_count": 22,
   "metadata": {},
   "outputs": [],
   "source": [
    "classifier.compile(optimizer ='adam',loss='binary_crossentropy', metrics =['accuracy'])"
   ]
  },
  {
   "cell_type": "code",
   "execution_count": 23,
   "metadata": {},
   "outputs": [
    {
     "name": "stdout",
     "output_type": "stream",
     "text": [
      "Epoch 1/100\n",
      "20/20 [==============================] - 0s 549us/step - loss: 0.6932 - accuracy: 0.5150\n",
      "Epoch 2/100\n",
      "20/20 [==============================] - 0s 632us/step - loss: 0.6928 - accuracy: 0.5150\n",
      "Epoch 3/100\n",
      "20/20 [==============================] - 0s 598us/step - loss: 0.6925 - accuracy: 0.5150\n",
      "Epoch 4/100\n",
      "20/20 [==============================] - 0s 600us/step - loss: 0.6915 - accuracy: 0.5150\n",
      "Epoch 5/100\n",
      "20/20 [==============================] - 0s 598us/step - loss: 0.6896 - accuracy: 0.5150\n",
      "Epoch 6/100\n",
      "20/20 [==============================] - 0s 598us/step - loss: 0.6855 - accuracy: 0.5150\n",
      "Epoch 7/100\n",
      "20/20 [==============================] - 0s 599us/step - loss: 0.6790 - accuracy: 0.5150\n",
      "Epoch 8/100\n",
      "20/20 [==============================] - 0s 598us/step - loss: 0.6685 - accuracy: 0.5150\n",
      "Epoch 9/100\n",
      "20/20 [==============================] - 0s 598us/step - loss: 0.6543 - accuracy: 0.5150\n",
      "Epoch 10/100\n",
      "20/20 [==============================] - 0s 547us/step - loss: 0.6378 - accuracy: 0.5150\n",
      "Epoch 11/100\n",
      "20/20 [==============================] - 0s 598us/step - loss: 0.6184 - accuracy: 0.5150\n",
      "Epoch 12/100\n",
      "20/20 [==============================] - 0s 698us/step - loss: 0.5988 - accuracy: 0.6400\n",
      "Epoch 13/100\n",
      "20/20 [==============================] - 0s 748us/step - loss: 0.5796 - accuracy: 0.8000\n",
      "Epoch 14/100\n",
      "20/20 [==============================] - 0s 597us/step - loss: 0.5616 - accuracy: 0.8050\n",
      "Epoch 15/100\n",
      "20/20 [==============================] - 0s 549us/step - loss: 0.5464 - accuracy: 0.8150\n",
      "Epoch 16/100\n",
      "20/20 [==============================] - 0s 547us/step - loss: 0.5325 - accuracy: 0.8250\n",
      "Epoch 17/100\n",
      "20/20 [==============================] - 0s 648us/step - loss: 0.5224 - accuracy: 0.8550\n",
      "Epoch 18/100\n",
      "20/20 [==============================] - 0s 577us/step - loss: 0.5126 - accuracy: 0.8550\n",
      "Epoch 19/100\n",
      "20/20 [==============================] - 0s 604us/step - loss: 0.5037 - accuracy: 0.8650\n",
      "Epoch 20/100\n",
      "20/20 [==============================] - 0s 654us/step - loss: 0.4965 - accuracy: 0.8700\n",
      "Epoch 21/100\n",
      "20/20 [==============================] - 0s 598us/step - loss: 0.4895 - accuracy: 0.8800\n",
      "Epoch 22/100\n",
      "20/20 [==============================] - 0s 597us/step - loss: 0.4838 - accuracy: 0.8900\n",
      "Epoch 23/100\n",
      "20/20 [==============================] - 0s 547us/step - loss: 0.4784 - accuracy: 0.8900\n",
      "Epoch 24/100\n",
      "20/20 [==============================] - 0s 597us/step - loss: 0.4725 - accuracy: 0.8900\n",
      "Epoch 25/100\n",
      "20/20 [==============================] - 0s 596us/step - loss: 0.4676 - accuracy: 0.9050\n",
      "Epoch 26/100\n",
      "20/20 [==============================] - 0s 586us/step - loss: 0.4620 - accuracy: 0.9000\n",
      "Epoch 27/100\n",
      "20/20 [==============================] - 0s 598us/step - loss: 0.4578 - accuracy: 0.8950\n",
      "Epoch 28/100\n",
      "20/20 [==============================] - 0s 546us/step - loss: 0.4539 - accuracy: 0.9000\n",
      "Epoch 29/100\n",
      "20/20 [==============================] - 0s 548us/step - loss: 0.4490 - accuracy: 0.9100\n",
      "Epoch 30/100\n",
      "20/20 [==============================] - 0s 598us/step - loss: 0.4447 - accuracy: 0.9150\n",
      "Epoch 31/100\n",
      "20/20 [==============================] - 0s 548us/step - loss: 0.4410 - accuracy: 0.9150\n",
      "Epoch 32/100\n",
      "20/20 [==============================] - 0s 697us/step - loss: 0.4371 - accuracy: 0.9200\n",
      "Epoch 33/100\n",
      "20/20 [==============================] - 0s 553us/step - loss: 0.4332 - accuracy: 0.9200\n",
      "Epoch 34/100\n",
      "20/20 [==============================] - 0s 648us/step - loss: 0.4294 - accuracy: 0.9200\n",
      "Epoch 35/100\n",
      "20/20 [==============================] - 0s 647us/step - loss: 0.4254 - accuracy: 0.9200\n",
      "Epoch 36/100\n",
      "20/20 [==============================] - 0s 499us/step - loss: 0.4220 - accuracy: 0.9200\n",
      "Epoch 37/100\n",
      "20/20 [==============================] - 0s 549us/step - loss: 0.4180 - accuracy: 0.9200\n",
      "Epoch 38/100\n",
      "20/20 [==============================] - 0s 598us/step - loss: 0.4150 - accuracy: 0.9200\n",
      "Epoch 39/100\n",
      "20/20 [==============================] - 0s 598us/step - loss: 0.4113 - accuracy: 0.9200\n",
      "Epoch 40/100\n",
      "20/20 [==============================] - 0s 598us/step - loss: 0.4078 - accuracy: 0.9200\n",
      "Epoch 41/100\n",
      "20/20 [==============================] - 0s 559us/step - loss: 0.4048 - accuracy: 0.9200\n",
      "Epoch 42/100\n",
      "20/20 [==============================] - 0s 548us/step - loss: 0.4019 - accuracy: 0.9200\n",
      "Epoch 43/100\n",
      "20/20 [==============================] - 0s 548us/step - loss: 0.3984 - accuracy: 0.9200\n",
      "Epoch 44/100\n",
      "20/20 [==============================] - 0s 598us/step - loss: 0.3955 - accuracy: 0.9200\n",
      "Epoch 45/100\n",
      "20/20 [==============================] - 0s 549us/step - loss: 0.3919 - accuracy: 0.9200\n",
      "Epoch 46/100\n",
      "20/20 [==============================] - 0s 623us/step - loss: 0.3888 - accuracy: 0.9200\n",
      "Epoch 47/100\n",
      "20/20 [==============================] - 0s 547us/step - loss: 0.3854 - accuracy: 0.9200\n",
      "Epoch 48/100\n",
      "20/20 [==============================] - 0s 647us/step - loss: 0.3827 - accuracy: 0.9200\n",
      "Epoch 49/100\n",
      "20/20 [==============================] - 0s 598us/step - loss: 0.3793 - accuracy: 0.9200\n",
      "Epoch 50/100\n",
      "20/20 [==============================] - 0s 647us/step - loss: 0.3760 - accuracy: 0.9200\n",
      "Epoch 51/100\n",
      "20/20 [==============================] - 0s 614us/step - loss: 0.3729 - accuracy: 0.9200\n",
      "Epoch 52/100\n",
      "20/20 [==============================] - 0s 597us/step - loss: 0.3697 - accuracy: 0.9200\n",
      "Epoch 53/100\n",
      "20/20 [==============================] - 0s 548us/step - loss: 0.3664 - accuracy: 0.9200\n",
      "Epoch 54/100\n",
      "20/20 [==============================] - 0s 598us/step - loss: 0.3643 - accuracy: 0.9250\n",
      "Epoch 55/100\n",
      "20/20 [==============================] - 0s 560us/step - loss: 0.3606 - accuracy: 0.9250\n",
      "Epoch 56/100\n",
      "20/20 [==============================] - 0s 510us/step - loss: 0.3578 - accuracy: 0.9250\n",
      "Epoch 57/100\n",
      "20/20 [==============================] - 0s 499us/step - loss: 0.3554 - accuracy: 0.9250\n",
      "Epoch 58/100\n",
      "20/20 [==============================] - 0s 499us/step - loss: 0.3520 - accuracy: 0.9250\n",
      "Epoch 59/100\n",
      "20/20 [==============================] - 0s 547us/step - loss: 0.3492 - accuracy: 0.9250\n",
      "Epoch 60/100\n",
      "20/20 [==============================] - 0s 499us/step - loss: 0.3465 - accuracy: 0.9250\n",
      "Epoch 61/100\n",
      "20/20 [==============================] - 0s 549us/step - loss: 0.3447 - accuracy: 0.9300\n",
      "Epoch 62/100\n",
      "20/20 [==============================] - 0s 499us/step - loss: 0.3415 - accuracy: 0.9300\n",
      "Epoch 63/100\n",
      "20/20 [==============================] - 0s 499us/step - loss: 0.3396 - accuracy: 0.9300\n",
      "Epoch 64/100\n",
      "20/20 [==============================] - 0s 501us/step - loss: 0.3369 - accuracy: 0.9300\n",
      "Epoch 65/100\n",
      "20/20 [==============================] - 0s 547us/step - loss: 0.3343 - accuracy: 0.9300\n",
      "Epoch 66/100\n",
      "20/20 [==============================] - 0s 550us/step - loss: 0.3323 - accuracy: 0.9300\n",
      "Epoch 67/100\n",
      "20/20 [==============================] - 0s 548us/step - loss: 0.3293 - accuracy: 0.9300\n",
      "Epoch 68/100\n",
      "20/20 [==============================] - 0s 547us/step - loss: 0.3276 - accuracy: 0.9300\n",
      "Epoch 69/100\n",
      "20/20 [==============================] - 0s 483us/step - loss: 0.3247 - accuracy: 0.9300\n",
      "Epoch 70/100\n",
      "20/20 [==============================] - 0s 532us/step - loss: 0.3224 - accuracy: 0.9300\n",
      "Epoch 71/100\n",
      "20/20 [==============================] - 0s 549us/step - loss: 0.3203 - accuracy: 0.9300\n",
      "Epoch 72/100\n",
      "20/20 [==============================] - 0s 549us/step - loss: 0.3185 - accuracy: 0.9300\n",
      "Epoch 73/100\n",
      "20/20 [==============================] - 0s 490us/step - loss: 0.3159 - accuracy: 0.9300\n",
      "Epoch 74/100\n",
      "20/20 [==============================] - 0s 513us/step - loss: 0.3152 - accuracy: 0.9300\n",
      "Epoch 75/100\n",
      "20/20 [==============================] - 0s 542us/step - loss: 0.3119 - accuracy: 0.9300\n",
      "Epoch 76/100\n",
      "20/20 [==============================] - 0s 497us/step - loss: 0.3103 - accuracy: 0.9300\n",
      "Epoch 77/100\n",
      "20/20 [==============================] - 0s 499us/step - loss: 0.3073 - accuracy: 0.9300\n",
      "Epoch 78/100\n",
      "20/20 [==============================] - 0s 500us/step - loss: 0.3062 - accuracy: 0.9300\n",
      "Epoch 79/100\n",
      "20/20 [==============================] - 0s 499us/step - loss: 0.3040 - accuracy: 0.9300\n",
      "Epoch 80/100\n",
      "20/20 [==============================] - 0s 500us/step - loss: 0.3011 - accuracy: 0.9300\n",
      "Epoch 81/100\n",
      "20/20 [==============================] - 0s 498us/step - loss: 0.2996 - accuracy: 0.9350\n",
      "Epoch 82/100\n",
      "20/20 [==============================] - 0s 530us/step - loss: 0.2975 - accuracy: 0.9300\n",
      "Epoch 83/100\n",
      "20/20 [==============================] - 0s 597us/step - loss: 0.2955 - accuracy: 0.9300\n",
      "Epoch 84/100\n",
      "20/20 [==============================] - 0s 549us/step - loss: 0.2938 - accuracy: 0.9300\n",
      "Epoch 85/100\n",
      "20/20 [==============================] - 0s 500us/step - loss: 0.2915 - accuracy: 0.9350\n",
      "Epoch 86/100\n",
      "20/20 [==============================] - 0s 497us/step - loss: 0.2909 - accuracy: 0.9300\n",
      "Epoch 87/100\n",
      "20/20 [==============================] - 0s 536us/step - loss: 0.2882 - accuracy: 0.9350\n",
      "Epoch 88/100\n",
      "20/20 [==============================] - 0s 697us/step - loss: 0.2860 - accuracy: 0.9350\n",
      "Epoch 89/100\n",
      "20/20 [==============================] - 0s 514us/step - loss: 0.2842 - accuracy: 0.9350\n",
      "Epoch 90/100\n",
      "20/20 [==============================] - 0s 599us/step - loss: 0.2825 - accuracy: 0.9350\n",
      "Epoch 91/100\n",
      "20/20 [==============================] - 0s 499us/step - loss: 0.2805 - accuracy: 0.9300\n",
      "Epoch 92/100\n",
      "20/20 [==============================] - 0s 529us/step - loss: 0.2786 - accuracy: 0.9350\n",
      "Epoch 93/100\n",
      "20/20 [==============================] - 0s 552us/step - loss: 0.2768 - accuracy: 0.9300\n",
      "Epoch 94/100\n",
      "20/20 [==============================] - 0s 529us/step - loss: 0.2745 - accuracy: 0.9350\n",
      "Epoch 95/100\n",
      "20/20 [==============================] - 0s 499us/step - loss: 0.2734 - accuracy: 0.9400\n",
      "Epoch 96/100\n",
      "20/20 [==============================] - 0s 510us/step - loss: 0.2714 - accuracy: 0.9350\n",
      "Epoch 97/100\n",
      "20/20 [==============================] - 0s 497us/step - loss: 0.2691 - accuracy: 0.9400\n",
      "Epoch 98/100\n",
      "20/20 [==============================] - 0s 499us/step - loss: 0.2674 - accuracy: 0.9400\n",
      "Epoch 99/100\n",
      "20/20 [==============================] - 0s 549us/step - loss: 0.2659 - accuracy: 0.9450\n",
      "Epoch 100/100\n",
      "20/20 [==============================] - 0s 497us/step - loss: 0.2643 - accuracy: 0.9400\n"
     ]
    },
    {
     "data": {
      "text/plain": [
       "<tensorflow.python.keras.callbacks.History at 0x1b0f728edf0>"
      ]
     },
     "execution_count": 23,
     "metadata": {},
     "output_type": "execute_result"
    }
   ],
   "source": [
    "classifier.fit(X_train,y_train, batch_size=10, epochs=100)"
   ]
  },
  {
   "cell_type": "code",
   "execution_count": 24,
   "metadata": {},
   "outputs": [
    {
     "name": "stdout",
     "output_type": "stream",
     "text": [
      "7/7 [==============================] - 0s 2ms/step - loss: 0.2607 - accuracy: 0.9450\n"
     ]
    },
    {
     "data": {
      "text/plain": [
       "[0.26074424386024475, 0.9449999928474426]"
      ]
     },
     "execution_count": 24,
     "metadata": {},
     "output_type": "execute_result"
    }
   ],
   "source": [
    "eval_model=classifier.evaluate(X_train, y_train)\n",
    "eval_model"
   ]
  },
  {
   "cell_type": "code",
   "execution_count": 26,
   "metadata": {},
   "outputs": [],
   "source": [
    "pred=classifier.predict(X_test)\n",
    "prob=classifier.predict_proba(X_test)\n",
    "pred =(pred>0.5)"
   ]
  },
  {
   "cell_type": "code",
   "execution_count": 27,
   "metadata": {},
   "outputs": [
    {
     "name": "stdout",
     "output_type": "stream",
     "text": [
      "[[404  87]\n",
      " [106 403]]\n"
     ]
    }
   ],
   "source": [
    "from sklearn.metrics import confusion_matrix\n",
    "cm = confusion_matrix(y_test, pred)\n",
    "print(cm)"
   ]
  },
  {
   "cell_type": "code",
   "execution_count": 28,
   "metadata": {},
   "outputs": [
    {
     "name": "stdout",
     "output_type": "stream",
     "text": [
      "              precision    recall  f1-score   support\n",
      "\n",
      "           0       0.79      0.82      0.81       491\n",
      "           1       0.82      0.79      0.81       509\n",
      "\n",
      "    accuracy                           0.81      1000\n",
      "   macro avg       0.81      0.81      0.81      1000\n",
      "weighted avg       0.81      0.81      0.81      1000\n",
      "\n"
     ]
    },
    {
     "data": {
      "text/plain": [
       "0.807"
      ]
     },
     "execution_count": 28,
     "metadata": {},
     "output_type": "execute_result"
    }
   ],
   "source": [
    "from sklearn.metrics import classification_report, accuracy_score, roc_auc_score\n",
    "\n",
    "print(classification_report(y_test, pred))\n",
    "accuracy_score(y_test,pred)"
   ]
  },
  {
   "cell_type": "code",
   "execution_count": 29,
   "metadata": {},
   "outputs": [
    {
     "name": "stdout",
     "output_type": "stream",
     "text": [
      "F1 Score: 0.8068068068068068\n"
     ]
    }
   ],
   "source": [
    "from sklearn.metrics import f1_score\n",
    "print(\"F1 Score: {}\".format(f1_score(y_test, pred)))"
   ]
  },
  {
   "cell_type": "code",
   "execution_count": 30,
   "metadata": {},
   "outputs": [
    {
     "name": "stdout",
     "output_type": "stream",
     "text": [
      "AUC: 0.86%\n"
     ]
    }
   ],
   "source": [
    "roc_auc = roc_auc_score(y_test, prob)\n",
    "print('AUC: %.2f' % roc_auc + \"%\")"
   ]
  },
  {
   "cell_type": "code",
   "execution_count": 31,
   "metadata": {},
   "outputs": [
    {
     "data": {
      "image/png": "[encoded data removed]",
      "text/plain": [
       "<Figure size 360x360 with 1 Axes>"
      ]
     },
     "metadata": {},
     "output_type": "display_data"
    }
   ],
   "source": [
    "from plot_metric.functions import BinaryClassification\n",
    "\n",
    "# Visualisation with plot_metric\n",
    "bc = BinaryClassification(y_test,\n",
    "                          prob,\n",
    "                          labels = [\"Class 1\", \"Class 2\"])\n",
    "\n",
    "# Figures\n",
    "plt.figure(figsize = (5,5))\n",
    "bc.plot_roc_curve()\n",
    "plt.show()"
   ]
  },
  {
   "cell_type": "code",
   "execution_count": 32,
   "metadata": {},
   "outputs": [
    {
     "data": {
      "text/plain": [
       "0.7917485265225933"
      ]
     },
     "execution_count": 32,
     "metadata": {},
     "output_type": "execute_result"
    }
   ],
   "source": [
    "from sklearn.metrics import recall_score\n",
    "recall_score(y_test, pred)"
   ]
  },
  {
   "cell_type": "code",
   "execution_count": null,
   "metadata": {},
   "outputs": [],
   "source": []
  }
 ],
 "metadata": {
  "kernelspec": {
   "display_name": "Python 3",
   "language": "python",
   "name": "python3"
  },
  "language_info": {
   "codemirror_mode": {
    "name": "ipython",
    "version": 3
   },
   "file_extension": ".py",
   "mimetype": "text/x-python",
   "name": "python",
   "nbconvert_exporter": "python",
   "pygments_lexer": "ipython3",
   "version": "3.8.3"
  }
 },
 "nbformat": 4,
 "nbformat_minor": 4
}
