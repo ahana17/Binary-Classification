{
 "cells": [
  {
   "cell_type": "code",
   "execution_count": 1,
   "metadata": {},
   "outputs": [],
   "source": [
    "import pandas as pd \n",
    "import seaborn as sns \n",
    "import matplotlib.pyplot as plt \n",
    "import numpy as np\n",
    "\n",
    "data_train=pd.read_csv('train.csv')\n",
    "data_test=pd.read_csv('test.csv')"
   ]
  },
  {
   "cell_type": "code",
   "execution_count": 2,
   "metadata": {},
   "outputs": [],
   "source": [
    "X_train = data_train.loc[ : , data_train.columns != 'y'] \n",
    "y_train = data_train[\"y\"]\n",
    "X_test = data_test.loc[ : , data_test.columns != 'y'] \n",
    "y_test = data_test[\"y\"]"
   ]
  },
  {
   "cell_type": "code",
   "execution_count": 3,
   "metadata": {},
   "outputs": [
    {
     "name": "stdout",
     "output_type": "stream",
     "text": [
      "[[290 201]\n",
      " [189 320]]\n",
      "              precision    recall  f1-score   support\n",
      "\n",
      "           0       0.61      0.59      0.60       491\n",
      "           1       0.61      0.63      0.62       509\n",
      "\n",
      "    accuracy                           0.61      1000\n",
      "   macro avg       0.61      0.61      0.61      1000\n",
      "weighted avg       0.61      0.61      0.61      1000\n",
      "\n"
     ]
    }
   ],
   "source": [
    "from sklearn.neighbors import KNeighborsClassifier \n",
    "  \n",
    "knn = KNeighborsClassifier(n_neighbors = 1) \n",
    "  \n",
    "knn.fit(X_train, y_train) \n",
    "pred = knn.predict(X_test) \n",
    "prob = knn.predict_proba(X_test)[::,1]\n",
    "  \n",
    "# Predictions and Evaluations   \n",
    "from sklearn.metrics import classification_report, confusion_matrix \n",
    "print(confusion_matrix(y_test, pred)) \n",
    "  \n",
    "print(classification_report(y_test, pred)) "
   ]
  },
  {
   "cell_type": "code",
   "execution_count": 4,
   "metadata": {},
   "outputs": [
    {
     "data": {
      "text/plain": [
       "1.0"
      ]
     },
     "execution_count": 4,
     "metadata": {},
     "output_type": "execute_result"
    }
   ],
   "source": [
    "knn.fit(X_train, y_train).score(X_train,y_train)"
   ]
  },
  {
   "cell_type": "code",
   "execution_count": 5,
   "metadata": {},
   "outputs": [
    {
     "data": {
      "text/plain": [
       "Text(0, 0.5, 'Error Rate')"
      ]
     },
     "execution_count": 5,
     "metadata": {},
     "output_type": "execute_result"
    },
    {
     "data": {
      "image/png": "[encoded data removed]",
      "text/plain": [
       "<Figure size 720x432 with 1 Axes>"
      ]
     },
     "metadata": {
      "needs_background": "light"
     },
     "output_type": "display_data"
    }
   ],
   "source": [
    "#Choosing a good K value\n",
    "error_rate = [] \n",
    "  \n",
    "# Will take some time \n",
    "for i in range(1, 100): \n",
    "      \n",
    "    knn = KNeighborsClassifier(n_neighbors = i) \n",
    "    knn.fit(X_train, y_train) \n",
    "    pred_i = knn.predict(X_test) \n",
    "    error_rate.append(np.mean(pred_i != y_test)) \n",
    "  \n",
    "plt.figure(figsize =(10, 6)) \n",
    "plt.plot(range(1, 100), error_rate, color ='blue', \n",
    "                linestyle ='dashed', marker ='o', \n",
    "         markerfacecolor ='red', markersize = 10) \n",
    "  \n",
    "plt.title('Error Rate vs. K Value') \n",
    "plt.xlabel('K') \n",
    "plt.ylabel('Error Rate') "
   ]
  },
  {
   "cell_type": "code",
   "execution_count": 6,
   "metadata": {},
   "outputs": [
    {
     "name": "stdout",
     "output_type": "stream",
     "text": [
      "WITH K = 1\n",
      "\n",
      "\n",
      "[[290 201]\n",
      " [189 320]]\n",
      "\n",
      "\n",
      "              precision    recall  f1-score   support\n",
      "\n",
      "           0       0.61      0.59      0.60       491\n",
      "           1       0.61      0.63      0.62       509\n",
      "\n",
      "    accuracy                           0.61      1000\n",
      "   macro avg       0.61      0.61      0.61      1000\n",
      "weighted avg       0.61      0.61      0.61      1000\n",
      "\n",
      "WITH K = 40\n",
      "\n",
      "\n",
      "[[361 130]\n",
      " [117 392]]\n",
      "\n",
      "\n",
      "              precision    recall  f1-score   support\n",
      "\n",
      "           0       0.76      0.74      0.75       491\n",
      "           1       0.75      0.77      0.76       509\n",
      "\n",
      "    accuracy                           0.75      1000\n",
      "   macro avg       0.75      0.75      0.75      1000\n",
      "weighted avg       0.75      0.75      0.75      1000\n",
      "\n",
      "WITH K = 85\n",
      "\n",
      "\n",
      "[[368 123]\n",
      " [104 405]]\n",
      "\n",
      "\n",
      "              precision    recall  f1-score   support\n",
      "\n",
      "           0       0.78      0.75      0.76       491\n",
      "           1       0.77      0.80      0.78       509\n",
      "\n",
      "    accuracy                           0.77      1000\n",
      "   macro avg       0.77      0.77      0.77      1000\n",
      "weighted avg       0.77      0.77      0.77      1000\n",
      "\n"
     ]
    },
    {
     "data": {
      "text/plain": [
       "0.773"
      ]
     },
     "execution_count": 6,
     "metadata": {},
     "output_type": "execute_result"
    }
   ],
   "source": [
    "from sklearn.metrics import classification_report, accuracy_score, roc_auc_score\n",
    "\n",
    "# K = 1 \n",
    "knn = KNeighborsClassifier(n_neighbors = 1) \n",
    "  \n",
    "knn.fit(X_train, y_train).score(X_train,y_train) \n",
    "pred = knn.predict(X_test) \n",
    "  \n",
    "print('WITH K = 1') \n",
    "print('\\n') \n",
    "print(confusion_matrix(y_test, pred)) \n",
    "print('\\n') \n",
    "print(classification_report(y_test, pred))\n",
    "  \n",
    "  \n",
    "# NOW WITH K = 40 \n",
    "knn = KNeighborsClassifier(n_neighbors = 40) \n",
    "  \n",
    "knn.fit(X_train, y_train).score(X_train,y_train) \n",
    "pred = knn.predict(X_test) \n",
    "  \n",
    "print('WITH K = 40') \n",
    "print('\\n') \n",
    "print(confusion_matrix(y_test, pred)) \n",
    "print('\\n') \n",
    "print(classification_report(y_test, pred))\n",
    "\n",
    "# NOW WITH K = 85 \n",
    "knn = KNeighborsClassifier(n_neighbors = 85) \n",
    "  \n",
    "knn.fit(X_train, y_train).score(X_train,y_train) \n",
    "pred = knn.predict(X_test) \n",
    "  \n",
    "print('WITH K = 85') \n",
    "print('\\n') \n",
    "print(confusion_matrix(y_test, pred)) \n",
    "print('\\n') \n",
    "print(classification_report(y_test, pred))\n",
    "accuracy_score(y_test,pred)"
   ]
  },
  {
   "cell_type": "code",
   "execution_count": 7,
   "metadata": {},
   "outputs": [
    {
     "data": {
      "text/plain": [
       "0.74"
      ]
     },
     "execution_count": 7,
     "metadata": {},
     "output_type": "execute_result"
    }
   ],
   "source": [
    "knn.fit(X_train, y_train).score(X_train,y_train)"
   ]
  },
  {
   "cell_type": "markdown",
   "metadata": {},
   "source": [
    "kNN after Scaling Variables"
   ]
  },
  {
   "cell_type": "code",
   "execution_count": 8,
   "metadata": {},
   "outputs": [
    {
     "data": {
      "text/html": [
       "<div>\n",
       "<style scoped>\n",
       "    .dataframe tbody tr th:only-of-type {\n",
       "        vertical-align: middle;\n",
       "    }\n",
       "\n",
       "    .dataframe tbody tr th {\n",
       "        vertical-align: top;\n",
       "    }\n",
       "\n",
       "    .dataframe thead th {\n",
       "        text-align: right;\n",
       "    }\n",
       "</style>\n",
       "<table border=\"1\" class=\"dataframe\">\n",
       "  <thead>\n",
       "    <tr style=\"text-align: right;\">\n",
       "      <th></th>\n",
       "      <th>x1</th>\n",
       "      <th>x2</th>\n",
       "      <th>x3</th>\n",
       "      <th>x4</th>\n",
       "      <th>x5</th>\n",
       "      <th>x6</th>\n",
       "      <th>x7</th>\n",
       "      <th>x8</th>\n",
       "      <th>x9</th>\n",
       "      <th>x10</th>\n",
       "      <th>x11</th>\n",
       "      <th>x12</th>\n",
       "      <th>x13</th>\n",
       "      <th>x14</th>\n",
       "      <th>x15</th>\n",
       "      <th>x16</th>\n",
       "      <th>x17</th>\n",
       "      <th>x18</th>\n",
       "      <th>x19</th>\n",
       "      <th>x20</th>\n",
       "    </tr>\n",
       "  </thead>\n",
       "  <tbody>\n",
       "    <tr>\n",
       "      <th>0</th>\n",
       "      <td>1.153031</td>\n",
       "      <td>0.784718</td>\n",
       "      <td>0.499014</td>\n",
       "      <td>-0.966277</td>\n",
       "      <td>-0.528717</td>\n",
       "      <td>-0.498240</td>\n",
       "      <td>0.040984</td>\n",
       "      <td>0.037473</td>\n",
       "      <td>0.592409</td>\n",
       "      <td>-0.343988</td>\n",
       "      <td>0.809785</td>\n",
       "      <td>1.013473</td>\n",
       "      <td>0.675837</td>\n",
       "      <td>-0.152392</td>\n",
       "      <td>-1.017391</td>\n",
       "      <td>1.272025</td>\n",
       "      <td>-0.376527</td>\n",
       "      <td>0.495199</td>\n",
       "      <td>-0.217872</td>\n",
       "      <td>-0.511430</td>\n",
       "    </tr>\n",
       "    <tr>\n",
       "      <th>1</th>\n",
       "      <td>-0.220933</td>\n",
       "      <td>-1.488014</td>\n",
       "      <td>-0.607456</td>\n",
       "      <td>-0.997245</td>\n",
       "      <td>0.818413</td>\n",
       "      <td>-1.114845</td>\n",
       "      <td>-0.783456</td>\n",
       "      <td>-1.539793</td>\n",
       "      <td>0.307601</td>\n",
       "      <td>0.594859</td>\n",
       "      <td>1.002239</td>\n",
       "      <td>1.176691</td>\n",
       "      <td>0.345505</td>\n",
       "      <td>-1.427742</td>\n",
       "      <td>1.292026</td>\n",
       "      <td>0.025808</td>\n",
       "      <td>-1.537644</td>\n",
       "      <td>0.739718</td>\n",
       "      <td>0.719206</td>\n",
       "      <td>0.522630</td>\n",
       "    </tr>\n",
       "    <tr>\n",
       "      <th>2</th>\n",
       "      <td>-1.140754</td>\n",
       "      <td>0.427524</td>\n",
       "      <td>-0.382392</td>\n",
       "      <td>1.201939</td>\n",
       "      <td>-0.714544</td>\n",
       "      <td>-1.246317</td>\n",
       "      <td>0.752418</td>\n",
       "      <td>-1.456717</td>\n",
       "      <td>1.259176</td>\n",
       "      <td>-1.212157</td>\n",
       "      <td>-1.133825</td>\n",
       "      <td>-0.937167</td>\n",
       "      <td>0.399210</td>\n",
       "      <td>1.506418</td>\n",
       "      <td>0.724377</td>\n",
       "      <td>1.672728</td>\n",
       "      <td>0.868145</td>\n",
       "      <td>1.398761</td>\n",
       "      <td>-0.768774</td>\n",
       "      <td>-0.345925</td>\n",
       "    </tr>\n",
       "    <tr>\n",
       "      <th>3</th>\n",
       "      <td>1.447477</td>\n",
       "      <td>-0.501673</td>\n",
       "      <td>-1.645451</td>\n",
       "      <td>1.454652</td>\n",
       "      <td>-1.062778</td>\n",
       "      <td>-1.516082</td>\n",
       "      <td>-0.326536</td>\n",
       "      <td>-1.335859</td>\n",
       "      <td>0.579217</td>\n",
       "      <td>-0.783181</td>\n",
       "      <td>0.791795</td>\n",
       "      <td>1.639310</td>\n",
       "      <td>0.640346</td>\n",
       "      <td>-0.173999</td>\n",
       "      <td>0.005540</td>\n",
       "      <td>-0.867229</td>\n",
       "      <td>0.401621</td>\n",
       "      <td>-0.953781</td>\n",
       "      <td>1.454493</td>\n",
       "      <td>-0.839349</td>\n",
       "    </tr>\n",
       "    <tr>\n",
       "      <th>4</th>\n",
       "      <td>-0.812784</td>\n",
       "      <td>-1.242967</td>\n",
       "      <td>0.705886</td>\n",
       "      <td>-0.186466</td>\n",
       "      <td>-0.366384</td>\n",
       "      <td>-1.640729</td>\n",
       "      <td>1.314899</td>\n",
       "      <td>-1.475716</td>\n",
       "      <td>1.507412</td>\n",
       "      <td>-1.094339</td>\n",
       "      <td>1.509415</td>\n",
       "      <td>1.144764</td>\n",
       "      <td>0.151160</td>\n",
       "      <td>0.303112</td>\n",
       "      <td>-0.729664</td>\n",
       "      <td>-0.412329</td>\n",
       "      <td>-0.769439</td>\n",
       "      <td>-0.249531</td>\n",
       "      <td>0.891058</td>\n",
       "      <td>0.773321</td>\n",
       "    </tr>\n",
       "  </tbody>\n",
       "</table>\n",
       "</div>"
      ],
      "text/plain": [
       "         x1        x2        x3        x4        x5        x6        x7  \\\n",
       "0  1.153031  0.784718  0.499014 -0.966277 -0.528717 -0.498240  0.040984   \n",
       "1 -0.220933 -1.488014 -0.607456 -0.997245  0.818413 -1.114845 -0.783456   \n",
       "2 -1.140754  0.427524 -0.382392  1.201939 -0.714544 -1.246317  0.752418   \n",
       "3  1.447477 -0.501673 -1.645451  1.454652 -1.062778 -1.516082 -0.326536   \n",
       "4 -0.812784 -1.242967  0.705886 -0.186466 -0.366384 -1.640729  1.314899   \n",
       "\n",
       "         x8        x9       x10       x11       x12       x13       x14  \\\n",
       "0  0.037473  0.592409 -0.343988  0.809785  1.013473  0.675837 -0.152392   \n",
       "1 -1.539793  0.307601  0.594859  1.002239  1.176691  0.345505 -1.427742   \n",
       "2 -1.456717  1.259176 -1.212157 -1.133825 -0.937167  0.399210  1.506418   \n",
       "3 -1.335859  0.579217 -0.783181  0.791795  1.639310  0.640346 -0.173999   \n",
       "4 -1.475716  1.507412 -1.094339  1.509415  1.144764  0.151160  0.303112   \n",
       "\n",
       "        x15       x16       x17       x18       x19       x20  \n",
       "0 -1.017391  1.272025 -0.376527  0.495199 -0.217872 -0.511430  \n",
       "1  1.292026  0.025808 -1.537644  0.739718  0.719206  0.522630  \n",
       "2  0.724377  1.672728  0.868145  1.398761 -0.768774 -0.345925  \n",
       "3  0.005540 -0.867229  0.401621 -0.953781  1.454493 -0.839349  \n",
       "4 -0.729664 -0.412329 -0.769439 -0.249531  0.891058  0.773321  "
      ]
     },
     "execution_count": 8,
     "metadata": {},
     "output_type": "execute_result"
    }
   ],
   "source": [
    "#Scaling training data\n",
    "from sklearn.preprocessing import StandardScaler \n",
    "  \n",
    "scaler = StandardScaler() \n",
    "  \n",
    "scaler.fit(data_train.drop('y', axis = 1)) \n",
    "scaled_features = scaler.transform(data_train.drop('y', axis = 1)) \n",
    "  \n",
    "data_train_feat = pd.DataFrame(scaled_features, columns = data_train.columns[:-1]) \n",
    "data_train_feat.head() "
   ]
  },
  {
   "cell_type": "code",
   "execution_count": 9,
   "metadata": {},
   "outputs": [
    {
     "data": {
      "text/html": [
       "<div>\n",
       "<style scoped>\n",
       "    .dataframe tbody tr th:only-of-type {\n",
       "        vertical-align: middle;\n",
       "    }\n",
       "\n",
       "    .dataframe tbody tr th {\n",
       "        vertical-align: top;\n",
       "    }\n",
       "\n",
       "    .dataframe thead th {\n",
       "        text-align: right;\n",
       "    }\n",
       "</style>\n",
       "<table border=\"1\" class=\"dataframe\">\n",
       "  <thead>\n",
       "    <tr style=\"text-align: right;\">\n",
       "      <th></th>\n",
       "      <th>x1</th>\n",
       "      <th>x2</th>\n",
       "      <th>x3</th>\n",
       "      <th>x4</th>\n",
       "      <th>x5</th>\n",
       "      <th>x6</th>\n",
       "      <th>x7</th>\n",
       "      <th>x8</th>\n",
       "      <th>x9</th>\n",
       "      <th>x10</th>\n",
       "      <th>x11</th>\n",
       "      <th>x12</th>\n",
       "      <th>x13</th>\n",
       "      <th>x14</th>\n",
       "      <th>x15</th>\n",
       "      <th>x16</th>\n",
       "      <th>x17</th>\n",
       "      <th>x18</th>\n",
       "      <th>x19</th>\n",
       "      <th>x20</th>\n",
       "    </tr>\n",
       "  </thead>\n",
       "  <tbody>\n",
       "    <tr>\n",
       "      <th>0</th>\n",
       "      <td>-0.586069</td>\n",
       "      <td>-1.323905</td>\n",
       "      <td>-0.605795</td>\n",
       "      <td>1.353687</td>\n",
       "      <td>-1.148883</td>\n",
       "      <td>-0.952766</td>\n",
       "      <td>0.268445</td>\n",
       "      <td>-0.264606</td>\n",
       "      <td>0.813764</td>\n",
       "      <td>0.234430</td>\n",
       "      <td>0.872405</td>\n",
       "      <td>-1.105173</td>\n",
       "      <td>-0.453036</td>\n",
       "      <td>0.451522</td>\n",
       "      <td>0.113099</td>\n",
       "      <td>0.547201</td>\n",
       "      <td>-0.786846</td>\n",
       "      <td>0.806010</td>\n",
       "      <td>-0.324040</td>\n",
       "      <td>-0.456173</td>\n",
       "    </tr>\n",
       "    <tr>\n",
       "      <th>1</th>\n",
       "      <td>-1.267585</td>\n",
       "      <td>1.388626</td>\n",
       "      <td>-1.052685</td>\n",
       "      <td>1.241307</td>\n",
       "      <td>-1.699771</td>\n",
       "      <td>-0.160082</td>\n",
       "      <td>-0.575228</td>\n",
       "      <td>-1.270022</td>\n",
       "      <td>-1.190937</td>\n",
       "      <td>-0.926227</td>\n",
       "      <td>-0.335385</td>\n",
       "      <td>-1.159048</td>\n",
       "      <td>-0.974209</td>\n",
       "      <td>1.473062</td>\n",
       "      <td>-0.330394</td>\n",
       "      <td>0.653972</td>\n",
       "      <td>1.629568</td>\n",
       "      <td>1.497961</td>\n",
       "      <td>0.849466</td>\n",
       "      <td>1.751419</td>\n",
       "    </tr>\n",
       "    <tr>\n",
       "      <th>2</th>\n",
       "      <td>0.953881</td>\n",
       "      <td>-0.975591</td>\n",
       "      <td>0.723231</td>\n",
       "      <td>-1.051569</td>\n",
       "      <td>-0.524438</td>\n",
       "      <td>1.488871</td>\n",
       "      <td>-0.765249</td>\n",
       "      <td>0.561704</td>\n",
       "      <td>-1.590773</td>\n",
       "      <td>-0.998138</td>\n",
       "      <td>1.494330</td>\n",
       "      <td>-0.769169</td>\n",
       "      <td>-0.141610</td>\n",
       "      <td>1.105775</td>\n",
       "      <td>-0.132393</td>\n",
       "      <td>-1.442147</td>\n",
       "      <td>-1.606821</td>\n",
       "      <td>0.001051</td>\n",
       "      <td>-0.017386</td>\n",
       "      <td>1.748502</td>\n",
       "    </tr>\n",
       "    <tr>\n",
       "      <th>3</th>\n",
       "      <td>-1.401324</td>\n",
       "      <td>0.458393</td>\n",
       "      <td>0.934580</td>\n",
       "      <td>-0.483231</td>\n",
       "      <td>-1.349638</td>\n",
       "      <td>-0.737958</td>\n",
       "      <td>-1.657105</td>\n",
       "      <td>-0.705003</td>\n",
       "      <td>-1.516274</td>\n",
       "      <td>-1.432102</td>\n",
       "      <td>0.317207</td>\n",
       "      <td>1.135862</td>\n",
       "      <td>1.564586</td>\n",
       "      <td>1.342863</td>\n",
       "      <td>0.219574</td>\n",
       "      <td>-0.091157</td>\n",
       "      <td>1.506397</td>\n",
       "      <td>0.614114</td>\n",
       "      <td>0.014069</td>\n",
       "      <td>1.347653</td>\n",
       "    </tr>\n",
       "    <tr>\n",
       "      <th>4</th>\n",
       "      <td>-0.791132</td>\n",
       "      <td>-0.970728</td>\n",
       "      <td>-0.151423</td>\n",
       "      <td>-1.627708</td>\n",
       "      <td>0.373797</td>\n",
       "      <td>1.132199</td>\n",
       "      <td>-1.157970</td>\n",
       "      <td>-0.602181</td>\n",
       "      <td>-0.930517</td>\n",
       "      <td>0.341521</td>\n",
       "      <td>-1.738367</td>\n",
       "      <td>-1.642769</td>\n",
       "      <td>0.808460</td>\n",
       "      <td>0.532579</td>\n",
       "      <td>-1.232900</td>\n",
       "      <td>-1.763772</td>\n",
       "      <td>0.827946</td>\n",
       "      <td>-0.145110</td>\n",
       "      <td>0.441116</td>\n",
       "      <td>-0.514650</td>\n",
       "    </tr>\n",
       "  </tbody>\n",
       "</table>\n",
       "</div>"
      ],
      "text/plain": [
       "         x1        x2        x3        x4        x5        x6        x7  \\\n",
       "0 -0.586069 -1.323905 -0.605795  1.353687 -1.148883 -0.952766  0.268445   \n",
       "1 -1.267585  1.388626 -1.052685  1.241307 -1.699771 -0.160082 -0.575228   \n",
       "2  0.953881 -0.975591  0.723231 -1.051569 -0.524438  1.488871 -0.765249   \n",
       "3 -1.401324  0.458393  0.934580 -0.483231 -1.349638 -0.737958 -1.657105   \n",
       "4 -0.791132 -0.970728 -0.151423 -1.627708  0.373797  1.132199 -1.157970   \n",
       "\n",
       "         x8        x9       x10       x11       x12       x13       x14  \\\n",
       "0 -0.264606  0.813764  0.234430  0.872405 -1.105173 -0.453036  0.451522   \n",
       "1 -1.270022 -1.190937 -0.926227 -0.335385 -1.159048 -0.974209  1.473062   \n",
       "2  0.561704 -1.590773 -0.998138  1.494330 -0.769169 -0.141610  1.105775   \n",
       "3 -0.705003 -1.516274 -1.432102  0.317207  1.135862  1.564586  1.342863   \n",
       "4 -0.602181 -0.930517  0.341521 -1.738367 -1.642769  0.808460  0.532579   \n",
       "\n",
       "        x15       x16       x17       x18       x19       x20  \n",
       "0  0.113099  0.547201 -0.786846  0.806010 -0.324040 -0.456173  \n",
       "1 -0.330394  0.653972  1.629568  1.497961  0.849466  1.751419  \n",
       "2 -0.132393 -1.442147 -1.606821  0.001051 -0.017386  1.748502  \n",
       "3  0.219574 -0.091157  1.506397  0.614114  0.014069  1.347653  \n",
       "4 -1.232900 -1.763772  0.827946 -0.145110  0.441116 -0.514650  "
      ]
     },
     "execution_count": 9,
     "metadata": {},
     "output_type": "execute_result"
    }
   ],
   "source": [
    "#Scaling test data\n",
    "from sklearn.preprocessing import StandardScaler \n",
    "  \n",
    "scaler = StandardScaler() \n",
    "  \n",
    "scaler.fit(data_test.drop('y', axis = 1)) \n",
    "scaled_features = scaler.transform(data_test.drop('y', axis = 1)) \n",
    "  \n",
    "data_test_feat = pd.DataFrame(scaled_features, columns = data_test.columns[:-1]) \n",
    "data_test_feat.head() "
   ]
  },
  {
   "cell_type": "code",
   "execution_count": 10,
   "metadata": {},
   "outputs": [],
   "source": [
    "X_train = data_train_feat\n",
    "y_train = data_train[\"y\"]\n",
    "X_test = data_test_feat \n",
    "y_test = data_test[\"y\"]"
   ]
  },
  {
   "cell_type": "code",
   "execution_count": 11,
   "metadata": {},
   "outputs": [
    {
     "name": "stdout",
     "output_type": "stream",
     "text": [
      "[[292 199]\n",
      " [194 315]]\n",
      "              precision    recall  f1-score   support\n",
      "\n",
      "           0       0.60      0.59      0.60       491\n",
      "           1       0.61      0.62      0.62       509\n",
      "\n",
      "    accuracy                           0.61      1000\n",
      "   macro avg       0.61      0.61      0.61      1000\n",
      "weighted avg       0.61      0.61      0.61      1000\n",
      "\n"
     ]
    }
   ],
   "source": [
    "from sklearn.neighbors import KNeighborsClassifier \n",
    "  \n",
    "knn = KNeighborsClassifier(n_neighbors = 1) \n",
    "  \n",
    "knn.fit(X_train, y_train).score(X_train,y_train) \n",
    "pred = knn.predict(X_test) \n",
    "  \n",
    "# Predictions and Evaluations   \n",
    "from sklearn.metrics import classification_report, confusion_matrix \n",
    "print(confusion_matrix(y_test, pred)) \n",
    "  \n",
    "print(classification_report(y_test, pred)) "
   ]
  },
  {
   "cell_type": "code",
   "execution_count": 12,
   "metadata": {},
   "outputs": [
    {
     "data": {
      "text/plain": [
       "1.0"
      ]
     },
     "execution_count": 12,
     "metadata": {},
     "output_type": "execute_result"
    }
   ],
   "source": [
    "knn.fit(X_train, y_train).score(X_train,y_train)"
   ]
  },
  {
   "cell_type": "code",
   "execution_count": 13,
   "metadata": {},
   "outputs": [
    {
     "data": {
      "text/plain": [
       "Text(0, 0.5, 'Error Rate')"
      ]
     },
     "execution_count": 13,
     "metadata": {},
     "output_type": "execute_result"
    },
    {
     "data": {
      "image/png": "[encoded data removed]",
      "text/plain": [
       "<Figure size 720x432 with 1 Axes>"
      ]
     },
     "metadata": {
      "needs_background": "light"
     },
     "output_type": "display_data"
    }
   ],
   "source": [
    "#Choosing a good K value\n",
    "error_rate = [] \n",
    "  \n",
    "# Will take some time \n",
    "for i in range(1, 100): \n",
    "      \n",
    "    knn = KNeighborsClassifier(n_neighbors = i) \n",
    "    knn.fit(X_train, y_train) \n",
    "    pred_i = knn.predict(X_test) \n",
    "    error_rate.append(np.mean(pred_i != y_test)) \n",
    "  \n",
    "plt.figure(figsize =(10, 6)) \n",
    "plt.plot(range(1, 100), error_rate, color ='blue', \n",
    "                linestyle ='dashed', marker ='o', \n",
    "         markerfacecolor ='red', markersize = 10) \n",
    "  \n",
    "plt.title('Error Rate vs. K Value') \n",
    "plt.xlabel('K') \n",
    "plt.ylabel('Error Rate') "
   ]
  },
  {
   "cell_type": "code",
   "execution_count": 14,
   "metadata": {},
   "outputs": [
    {
     "name": "stdout",
     "output_type": "stream",
     "text": [
      "WITH K = 1\n",
      "\n",
      "\n",
      "[[292 199]\n",
      " [194 315]]\n",
      "\n",
      "\n",
      "              precision    recall  f1-score   support\n",
      "\n",
      "           0       0.60      0.59      0.60       491\n",
      "           1       0.61      0.62      0.62       509\n",
      "\n",
      "    accuracy                           0.61      1000\n",
      "   macro avg       0.61      0.61      0.61      1000\n",
      "weighted avg       0.61      0.61      0.61      1000\n",
      "\n",
      "WITH K = 40\n",
      "\n",
      "\n",
      "[[370 121]\n",
      " [120 389]]\n",
      "\n",
      "\n",
      "              precision    recall  f1-score   support\n",
      "\n",
      "           0       0.76      0.75      0.75       491\n",
      "           1       0.76      0.76      0.76       509\n",
      "\n",
      "    accuracy                           0.76      1000\n",
      "   macro avg       0.76      0.76      0.76      1000\n",
      "weighted avg       0.76      0.76      0.76      1000\n",
      "\n",
      "WITH K = 78\n",
      "\n",
      "\n",
      "[[392  99]\n",
      " [116 393]]\n",
      "\n",
      "\n",
      "              precision    recall  f1-score   support\n",
      "\n",
      "           0       0.77      0.80      0.78       491\n",
      "           1       0.80      0.77      0.79       509\n",
      "\n",
      "    accuracy                           0.79      1000\n",
      "   macro avg       0.79      0.79      0.78      1000\n",
      "weighted avg       0.79      0.79      0.79      1000\n",
      "\n"
     ]
    },
    {
     "data": {
      "text/plain": [
       "0.785"
      ]
     },
     "execution_count": 14,
     "metadata": {},
     "output_type": "execute_result"
    }
   ],
   "source": [
    "from sklearn.metrics import classification_report, accuracy_score, roc_auc_score\n",
    "\n",
    "# K = 1 \n",
    "knn = KNeighborsClassifier(n_neighbors = 1) \n",
    "  \n",
    "knn.fit(X_train, y_train).score(X_train,y_train) \n",
    "pred = knn.predict(X_test) \n",
    "  \n",
    "print('WITH K = 1') \n",
    "print('\\n') \n",
    "print(confusion_matrix(y_test, pred)) \n",
    "print('\\n') \n",
    "print(classification_report(y_test, pred))\n",
    "  \n",
    "  \n",
    "# NOW WITH K = 40 \n",
    "knn = KNeighborsClassifier(n_neighbors = 40) \n",
    "  \n",
    "knn.fit(X_train, y_train).score(X_train,y_train) \n",
    "pred = knn.predict(X_test) \n",
    "  \n",
    "print('WITH K = 40') \n",
    "print('\\n') \n",
    "print(confusion_matrix(y_test, pred)) \n",
    "print('\\n') \n",
    "print(classification_report(y_test, pred))\n",
    "\n",
    "# NOW WITH K = 78 \n",
    "knn = KNeighborsClassifier(n_neighbors = 78) \n",
    "  \n",
    "knn.fit(X_train, y_train).score(X_train,y_train) \n",
    "pred = knn.predict(X_test)\n",
    "prob = knn.predict_proba(X_test)[::,1]\n",
    "  \n",
    "print('WITH K = 78') \n",
    "print('\\n') \n",
    "print(confusion_matrix(y_test, pred)) \n",
    "print('\\n') \n",
    "print(classification_report(y_test, pred))\n",
    "accuracy_score(y_test,pred)"
   ]
  },
  {
   "cell_type": "code",
   "execution_count": 15,
   "metadata": {},
   "outputs": [
    {
     "data": {
      "text/plain": [
       "0.765"
      ]
     },
     "execution_count": 15,
     "metadata": {},
     "output_type": "execute_result"
    }
   ],
   "source": [
    "knn.fit(X_train, y_train).score(X_train,y_train)"
   ]
  },
  {
   "cell_type": "code",
   "execution_count": 16,
   "metadata": {},
   "outputs": [
    {
     "name": "stdout",
     "output_type": "stream",
     "text": [
      "F1 Score: 0.7852147852147852\n"
     ]
    }
   ],
   "source": [
    "import numpy as np\n",
    "from sklearn.metrics import classification_report, accuracy_score, roc_auc_score\n",
    "\n",
    "from sklearn.metrics import f1_score\n",
    "print(\"F1 Score: {}\".format(f1_score(y_test, pred)))"
   ]
  },
  {
   "cell_type": "code",
   "execution_count": 17,
   "metadata": {},
   "outputs": [
    {
     "data": {
      "text/plain": [
       "0.7721021611001965"
      ]
     },
     "execution_count": 17,
     "metadata": {},
     "output_type": "execute_result"
    }
   ],
   "source": [
    "from sklearn.metrics import recall_score\n",
    "recall_score(y_test, pred)"
   ]
  },
  {
   "cell_type": "code",
   "execution_count": 18,
   "metadata": {},
   "outputs": [
    {
     "name": "stdout",
     "output_type": "stream",
     "text": [
      "AUC: 0.84\n"
     ]
    }
   ],
   "source": [
    "roc_auc = roc_auc_score(y_test, prob)\n",
    "print('AUC: %.2f' % roc_auc )"
   ]
  },
  {
   "cell_type": "code",
   "execution_count": 19,
   "metadata": {},
   "outputs": [
    {
     "data": {
      "image/png": "[encoded data removed]",
      "text/plain": [
       "<Figure size 360x360 with 1 Axes>"
      ]
     },
     "metadata": {},
     "output_type": "display_data"
    }
   ],
   "source": [
    "from plot_metric.functions import BinaryClassification\n",
    "\n",
    "# Visualisation with plot_metric\n",
    "bc = BinaryClassification(y_test,\n",
    "                          prob,\n",
    "                          labels = [\"Class 1\", \"Class 2\"])\n",
    "\n",
    "# Figures\n",
    "plt.figure(figsize = (5,5))\n",
    "bc.plot_roc_curve()\n",
    "plt.show()"
   ]
  },
  {
   "cell_type": "code",
   "execution_count": null,
   "metadata": {},
   "outputs": [],
   "source": []
  }
 ],
 "metadata": {
  "kernelspec": {
   "display_name": "Python 3",
   "language": "python",
   "name": "python3"
  },
  "language_info": {
   "codemirror_mode": {
    "name": "ipython",
    "version": 3
   },
   "file_extension": ".py",
   "mimetype": "text/x-python",
   "name": "python",
   "nbconvert_exporter": "python",
   "pygments_lexer": "ipython3",
   "version": "3.8.3"
  }
 },
 "nbformat": 4,
 "nbformat_minor": 4
}
